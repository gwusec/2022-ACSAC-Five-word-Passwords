{
 "cells": [
  {
   "cell_type": "code",
   "execution_count": 2,
   "id": "c25672cd",
   "metadata": {},
   "outputs": [],
   "source": [
    "import numpy as np\n",
    "import pandas as pd"
   ]
  },
  {
   "cell_type": "code",
   "execution_count": 3,
   "id": "61b34ce4",
   "metadata": {},
   "outputs": [],
   "source": [
    "presurvey_demo = pd.read_csv('../data/Presurvey_Demo.csv')\n",
    "postsurvey_demo = pd.read_csv('../data/Postsurvey_Demo.csv')"
   ]
  },
  {
   "cell_type": "code",
   "execution_count": 19,
   "id": "4b947f1c",
   "metadata": {},
   "outputs": [
    {
     "name": "stdout",
     "output_type": "stream",
     "text": [
      "                                               cnt       perc\n",
      "demo_age               demo_gender                           \n",
      "18 - 24                Man                       7   6.250000\n",
      "                       Non-binary                3   2.678571\n",
      "                       Woman                    24  21.428571\n",
      "25 - 34                Man                      23  20.535714\n",
      "                       Non-binary                2   1.785714\n",
      "                       Woman                    24  21.428571\n",
      "35 - 44                Man                       9   8.035714\n",
      "                       Woman                     4   3.571429\n",
      "45 - 54                Man                       8   7.142857\n",
      "                       Woman                     5   4.464286\n",
      "55 - 64                Man                       1   0.892857\n",
      "                       Woman                     1   0.892857\n",
      "Prefer not to disclose Prefer not to disclose    1   0.892857\n"
     ]
    }
   ],
   "source": [
    "presurvey_total = len(presurvey_demo)\n",
    "presurvey_demo_age = presurvey_demo[['demo_age', 'demo_gender', 'id']].groupby(['demo_age', 'demo_gender']).count()\n",
    "presurvey_demo_age = presurvey_demo_age.rename(columns={'id':'cnt'})\n",
    "presurvey_demo_age[['perc']] = presurvey_demo_age[['cnt']]/presurvey_total*100\n",
    "print(presurvey_demo_age)"
   ]
  },
  {
   "cell_type": "code",
   "execution_count": 22,
   "id": "c55c3000",
   "metadata": {},
   "outputs": [
    {
     "name": "stdout",
     "output_type": "stream",
     "text": [
      "                                                                 cnt\n",
      "demo_education                           demo_gender                \n",
      "Associate's Degree                       Man                       2\n",
      "                                         Woman                     4\n",
      "Bachelor's Degree                        Man                      13\n",
      "                                         Non-binary                1\n",
      "                                         Woman                    17\n",
      "Doctorate                                Man                       3\n",
      "                                         Woman                     1\n",
      "High school                              Man                       4\n",
      "                                         Non-binary                1\n",
      "                                         Woman                     8\n",
      "Master's Degree                          Man                      18\n",
      "                                         Woman                    11\n",
      "Prefer not to disclose                   Prefer not to disclose    1\n",
      "Some college                             Man                       8\n",
      "                                         Non-binary                3\n",
      "                                         Woman                    14\n",
      "Some high school                         Woman                     1\n",
      "Trade, technical, or vocational training Woman                     2\n"
     ]
    }
   ],
   "source": [
    "presurvey_demo_edu = presurvey_demo[['demo_education', 'demo_gender', 'id']].groupby(['demo_education', 'demo_gender']).count()\n",
    "presurvey_demo_edu = presurvey_demo_edu.rename(columns={'id':'cnt'})\n",
    "# presurvey_demo_edu[['perc']] = presurvey_demo_edu[['cnt']]/presurvey_total*100\n",
    "print(presurvey_demo_edu)"
   ]
  },
  {
   "cell_type": "code",
   "execution_count": 23,
   "id": "58b03a41",
   "metadata": {},
   "outputs": [
    {
     "name": "stdout",
     "output_type": "stream",
     "text": [
      "                                                                           cnt\n",
      "demo_background                                    demo_gender                \n",
      "I do not have an education in, nor do I work in... Man                      25\n",
      "                                                   Non-binary                5\n",
      "                                                   Woman                    44\n",
      "I have an education in, or work in, the field o... Man                      20\n",
      "                                                   Woman                    13\n",
      "Prefer not to disclose                             Man                       3\n",
      "                                                   Prefer not to disclose    1\n",
      "                                                   Woman                     1\n"
     ]
    }
   ],
   "source": [
    "presurvey_demo_bg = presurvey_demo[['demo_background', 'demo_gender', 'id']].groupby(['demo_background', 'demo_gender']).count()\n",
    "presurvey_demo_bg = presurvey_demo_bg.rename(columns={'id':'cnt'})\n",
    "# presurvey_demo_bg[['perc']] = presurvey_demo_bg[['cnt']]/presurvey_total*100\n",
    "print(presurvey_demo_bg)"
   ]
  },
  {
   "cell_type": "code",
   "execution_count": null,
   "id": "7494147d",
   "metadata": {},
   "outputs": [],
   "source": []
  }
 ],
 "metadata": {
  "kernelspec": {
   "display_name": "Python 3 (ipykernel)",
   "language": "python",
   "name": "python3"
  },
  "language_info": {
   "codemirror_mode": {
    "name": "ipython",
    "version": 3
   },
   "file_extension": ".py",
   "mimetype": "text/x-python",
   "name": "python",
   "nbconvert_exporter": "python",
   "pygments_lexer": "ipython3",
   "version": "3.9.5"
  }
 },
 "nbformat": 4,
 "nbformat_minor": 5
}
