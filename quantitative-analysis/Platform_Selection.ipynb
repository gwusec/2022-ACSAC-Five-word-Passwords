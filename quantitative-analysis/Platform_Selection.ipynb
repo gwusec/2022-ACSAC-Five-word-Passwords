{
 "cells": [
  {
   "cell_type": "code",
   "execution_count": 1,
   "id": "4af67991",
   "metadata": {},
   "outputs": [],
   "source": [
    "import pandas as pd\n",
    "import matplotlib.pyplot as plt\n",
    "import matplotlib.ticker as mtick"
   ]
  },
  {
   "cell_type": "code",
   "execution_count": 2,
   "id": "21f1cfc9",
   "metadata": {},
   "outputs": [],
   "source": [
    "import matplotlib\n",
    "\n",
    "matplotlib.use(\"pdf\")\n",
    "matplotlib.rcParams.update({\n",
    "    \"pgf.texsystem\": \"pdflatex\",\n",
    "    'font.family': 'sans-serif',\n",
    "    'font.sans-serif': 'Arial',\n",
    "    'text.usetex': True,\n",
    "    'pgf.rcfonts': False,\n",
    "    'font.size': 14\n",
    "})"
   ]
  },
  {
   "cell_type": "code",
   "execution_count": 3,
   "id": "3326d980",
   "metadata": {},
   "outputs": [],
   "source": [
    "platform_selection = pd.DataFrame(data={'Accounts':['Work', 'Bank', 'Retail Website', \\\n",
    "                                                    'Social Media', 'Email', 'None'],\\\n",
    "                                        'Would Use': [18, 19, 35, 38, 40, 47],\\\n",
    "                                        'Have Used': [0, 0, 0, 4, 2, 0]}).set_index('Accounts')\n",
    "\n",
    "# platform_selection = platform_selection.iloc[::-1]\n",
    "\n",
    "# plataform_selection_num = [47, 40, 38, 35, 19, 18, 0, 2, 4, 0, 0, 0]\n",
    "platform_selection_num = [18, 19, 35, 38, 40, 47, 0, 0, 0, 4, 2, 0]"
   ]
  },
  {
   "cell_type": "code",
   "execution_count": 4,
   "id": "21626bf5",
   "metadata": {},
   "outputs": [],
   "source": [
    "# Create a figure.\n",
    "fig = plt.figure(figsize=(6.8, 3.4))\n",
    "\n",
    "# Divide the figure into a 1x4 grid, and give me the first section\n",
    "ax1 = fig.add_subplot(111)\n",
    "\n",
    "# ax2.tick_params(axis='y', labelleft=False, labelright=True)\n",
    "\n",
    "plt.rcParams['figure.dpi'] = 800\n",
    "plt.rcParams['savefig.dpi'] = 800\n",
    "\n",
    "from matplotlib.ticker import MaxNLocator\n",
    "\n",
    "# ax1 = plt.figure().gca()\n",
    "ax1.xaxis.set_major_locator(MaxNLocator(integer=True))\n",
    "\n",
    "\n",
    "# word_freq_all.plot(kind='barh', color = '#d7191c', ax=ax1, zorder=3)\n",
    "platform_selection.plot(kind='barh', stacked=True, color = ['#fdae61','#abd9e9'], \\\n",
    "                        ax=ax1, zorder=3, width=0.8)\n",
    "\n",
    "ax1.set_yticklabels(platform_selection.index.values.tolist())\n",
    "\n",
    "ax1.spines['top'].set_visible(False)\n",
    "ax1.spines['right'].set_visible(False)\n",
    "\n",
    "index = 0\n",
    "\n",
    "for bar in ax1.patches:\n",
    "    if(platform_selection_num[index] != 0):\n",
    "        ax1.text(\n",
    "            bar.get_x() + bar.get_width() / 2,\n",
    "            bar.get_y()+ bar.get_height() / 2,\n",
    "            platform_selection_num[index],\n",
    "            ha='center',\n",
    "            va='center',\n",
    "            size=14\n",
    "        )\n",
    "    \n",
    "    index = index + 1\n",
    "\n",
    "ax1.grid(axis='x', zorder=0)\n",
    "ax1.get_yaxis().get_label().set_visible(False)\n",
    "\n",
    "ax1.legend(loc='upper center', prop={'size':14}, ncol=2, bbox_to_anchor=(0.5, 1.2), frameon=False)\n",
    "\n",
    "plt.subplots_adjust(wspace=0.15, hspace=0)\n",
    "plt.minorticks_off()\n",
    "# plt.show()\n",
    "plt.savefig('platform_selection.pdf', bbox_inches='tight')"
   ]
  },
  {
   "cell_type": "code",
   "execution_count": null,
   "id": "b05afd0b",
   "metadata": {},
   "outputs": [],
   "source": []
  }
 ],
 "metadata": {
  "kernelspec": {
   "display_name": "Python 3 (ipykernel)",
   "language": "python",
   "name": "python3"
  },
  "language_info": {
   "codemirror_mode": {
    "name": "ipython",
    "version": 3
   },
   "file_extension": ".py",
   "mimetype": "text/x-python",
   "name": "python",
   "nbconvert_exporter": "python",
   "pygments_lexer": "ipython3",
   "version": "3.9.5"
  }
 },
 "nbformat": 4,
 "nbformat_minor": 5
}
